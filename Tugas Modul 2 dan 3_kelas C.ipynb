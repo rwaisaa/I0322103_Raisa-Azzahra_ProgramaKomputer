{
 "cells": [
  {
   "cell_type": "markdown",
   "metadata": {},
   "source": [
    "print(input(\"Nama:\"))\n",
    "print(input(\"NIM:\"))\n",
    "print(input(\"Kelas:\"))"
   ]
  },
  {
   "attachments": {},
   "cell_type": "markdown",
   "metadata": {},
   "source": [
    "## 1."
   ]
  },
  {
   "attachments": {},
   "cell_type": "markdown",
   "metadata": {},
   "source": [
    "buatlah program sederhana untuk:\n",
    "* **A** mencari massa jika diketahui nilai energi potensial, percepatan gravitasi, dan ketinggian benda! beserta rumus nya!\n",
    "* **B** mencari gaya apung jika diketahui massa jenis, tinggi, panjang, dan lebar benda serta percepatan gravitasi dan contohnya! beserta rumus nya!\n",
    "* **C** Tulis program Python untuk menghitung luas dari segi lima sama sisi!\n",
    "\n",
    "> *note* : rumus, contoh, dan nilai dari tiap variabel ditentukan oleh kalian sendiri dan gunakan satuan baku (SI) untuk menghitung nilai dari tiap variabel"
   ]
  },
  {
   "cell_type": "code",
   "execution_count": 2,
   "metadata": {},
   "outputs": [
    {
     "name": "stdout",
     "output_type": "stream",
     "text": [
      "massa benda dengan energi potensial 30 joule, percepatan gravitasi 9.8 m/s^2, dan ketinggian benda 5 m adalah 15.306122448979592 kg\n"
     ]
    }
   ],
   "source": [
    "#A\n",
    "ep = float(input(\"masukkan nilai energi potensial =  \"))\n",
    "g = 9.8 \n",
    "h = float(input(\"masukkan nilai ketinggian benda =\"))\n",
    "\n",
    "massa = ep/g*h\n",
    "print(f\"massa benda dengan energi potensial {ep} joule, percepatan gravitasi {g} m/s^2, dan ketinggian benda {h} m adalah {massa} kg\")\n"
   ]
  },
  {
   "cell_type": "code",
   "execution_count": 6,
   "metadata": {},
   "outputs": [
    {
     "name": "stdout",
     "output_type": "stream",
     "text": [
      "nilai volume benda adalah 40\n",
      "gaya apung benda dengan massa jenis 1.4 kg/m^3, percepatan gravitasi 9.8 m/s^2, dan volume 40 m^3 adalah 548.8000000000001 N\n"
     ]
    }
   ],
   "source": [
    "#B\n",
    "rho = float(input(\"masukkan nilai massa jenis = \"))\n",
    "g = 9.8\n",
    "p = int(input(\"masukkan nilai panjang benda = \"))\n",
    "l = int(input(\"masukkan nilai lebar benda =\"))\n",
    "t = int(input(\"masukkan nilai tinggi benda =\"))\n",
    "\n",
    "v = p*l*t\n",
    "Fa = rho*g*v\n",
    "print(f\"nilai volume benda adalah {v} m^3\")\n",
    "print(f\"gaya apung benda dengan massa jenis {rho} kg/m^3, percepatan gravitasi {g} m/s^2, dan volume {v} m^3 adalah {Fa} N\")\n"
   ]
  },
  {
   "cell_type": "code",
   "execution_count": 12,
   "metadata": {},
   "outputs": [
    {
     "name": "stdout",
     "output_type": "stream",
     "text": [
      "Menghitung luas segi lima sisi dengan panjang sisi 4 m\n",
      "Rumus luas segi lima sama sisi, L = 1/4.akar(5.(5+2.akar 5).s^2)\n",
      "L =  6.881909602355868 m^2\n"
     ]
    }
   ],
   "source": [
    "#C\n",
    "s = 4\n",
    "print(\"Menghitung luas segi lima sisi dengan panjang sisi\", s, \"m\")\n",
    "\n",
    "#Rumus Luas \n",
    "import math \n",
    "L = 1/4 * (math.sqrt((5*(5+2*(math.sqrt(5)))*s**2)))\n",
    "print(\"Rumus luas segi lima sama sisi, L = 1/4.akar(5.(5+2.akar 5).s^2)\")\n",
    "\n",
    "print(\"L = \",L,\"m^2\")"
   ]
  },
  {
   "attachments": {},
   "cell_type": "markdown",
   "metadata": {},
   "source": [
    "## 2."
   ]
  },
  {
   "attachments": {},
   "cell_type": "markdown",
   "metadata": {},
   "source": [
    "Taman bermain ANCOL memiliki berbagai wahana, salah satunya adalah bianglala. Harga tiket yang dijual berbeda tergantung dengan kategori nya. Harga tiket bagi orang dewasa atau yang berumur lebih dari 17 tahun adalah Rp 110.000 , harga tiket untuk anak-anak usia 6-16 tahun adalah Rp. 75.000 , sedangkan untuk usia dibawahnya tidak dikenakan biaya. Pada wahana bianglala sedang ada \"Promo RAMADHAN\" sebesar 20% bagi pembelian tiket lebih dari 2 pcs.\n",
    "\n",
    "Keluarga Anya Forger ingin menaiki wahana bianglala tersebut, Anya (usia 18 tahun) pergi bersama ayah dan ibunya beserta dua adiknya, Harry (usia 8 tahun) dan Taylor (usia 4 tahun). \n",
    "\n",
    "> Buatlah program sederhana untuk menghitung harga total dari pembelian tiket  oleh keluarga Anya dan harga tiket setelah mendapatkan diskon"
   ]
  },
  {
   "cell_type": "code",
   "execution_count": 19,
   "metadata": {},
   "outputs": [
    {
     "name": "stdout",
     "output_type": "stream",
     "text": [
      "Total harga tiket = Rp 324000.0\n"
     ]
    }
   ],
   "source": [
    "tiket_dewasa = 110000\n",
    "tiket_anak = 75000\n",
    "tiket_DiBawahUmur = 0\n",
    "\n",
    "#Kategori Tiket\n",
    "KategoriDewasa = [\"Ayah\", \"Ibu\", \"Anya\"]\n",
    "KategoriAnak = [\"Harry\"]\n",
    "KategoriDiBawahUmur = [\"Taylor\"]\n",
    "\n",
    "#Harga yang dibayar\n",
    "HargaTiketDewasa = len(KategoriDewasa)*tiket_dewasa\n",
    "HargaTiketAnak = len(KategoriAnak)*tiket_anak\n",
    "HargaTiketDiBawahUmur = len(KategoriDiBawahUmur)*tiket_DiBawahUmur\n",
    "\n",
    "BanyakTiket = len(KategoriDewasa)+len(KategoriAnak)+len(KategoriDiBawahUmur)\n",
    "HargaTiket = HargaTiketDewasa+HargaTiketAnak+HargaTiketDiBawahUmur\n",
    "\n",
    "if BanyakTiket >2 :\n",
    "    print(\"Total harga tiket = Rp\", HargaTiket-(HargaTiket*20/100))\n",
    "else :\n",
    "    print(\"Total harga tiket = Rp\", HargaTiket)"
   ]
  },
  {
   "attachments": {},
   "cell_type": "markdown",
   "metadata": {},
   "source": [
    "## 3. "
   ]
  },
  {
   "attachments": {},
   "cell_type": "markdown",
   "metadata": {},
   "source": [
    "diberikan list aslab sebagai berikut:\n",
    "```python\n",
    "list_aslab = [\n",
    "    {\"nama\": \"Berlian Safri Prakoso\", \"nim\": \"I0320017\", \"kontak\": \"0858XXXXXXXX\"},\n",
    "    {\"nama\": \"Halidya Siti Hanifah\", \"nim\": \"I0320044\", \"kontak\": \"0878XXXXXXXX\"},\n",
    "    {\"nama\": \"Nurki Putra Mahardika\", \"nim\": \"I0320076\", \"kontak\": \"0877XXXXXXXX\"},\n",
    "    {\"nama\": \"Aji Manarul Aziz\", \"nim\": \"I0320119\", \"kontak\": \"0812XXXXXXXX\"},\n",
    "    {\"nama\": \"Alica Ayu Fitriani\", \"nim\": \"I0320121\", \"kontak\": \"0896XXXXXXXX\"},\n",
    "    {\"nama\": \"Dendy Halim Kusuma\", \"nim\": \"I0320125\", \"kontak\": \"0822XXXXXXXX\"}\n",
    "]\n",
    "```\n",
    "* **A** Tuliskan kode untuk mengakses informasi tentang \"nama\" dari semua aslab mulai dari index 1 sampai 5\n",
    "* **B** Tambahkan informasi berikut pada data aslab dan tampilkan hasilnya:\n",
    "```python\n",
    "    surel = [\"berlian@student.uns.ac.id\",\n",
    "          \"halidya@student.uns.ac.id\",\n",
    "          \"nurki@student.uns.ac.id\",\n",
    "          \"manarul@student.uns.ac.id\",\n",
    "          \"alica@student.uns.ac.id\",\n",
    "          \"dendy@student.uns.ac.id\"]\n",
    "```\n",
    "* **C** Hapus nilai pada kunci \"kontak\" pada list aslab dan tampilkan hasilnya\n",
    "> *note: kalian hanya boleh menggunakan key-value pair yang disebutkan di dalam teks, tanpa menggunakan informasi tambahan yang diambil pada list yang ada*"
   ]
  },
  {
   "cell_type": "code",
   "execution_count": 22,
   "metadata": {},
   "outputs": [
    {
     "name": "stdout",
     "output_type": "stream",
     "text": [
      "Halidya Siti Hanifah\n",
      "Nurki Putra Mahardika\n",
      "Aji Manarul Aziz\n",
      "Alica Ayu Fitriani\n",
      "Dendy Halim Kusuma\n"
     ]
    }
   ],
   "source": [
    "#A\n",
    "list_aslab = [\n",
    "    {\"nama\":\"Berlian Safri Prakoso\", \"nim\": \"I0320017\", \"kontak\": \"0858XXXXXXXX\"},\n",
    "    {\"nama\":\"Halidya Siti Hanifah\", \"nim\": \"I0320044\", \"kontak\": \"0878XXXXXXXX\"},\n",
    "    {\"nama\":\"Nurki Putra Mahardika\", \"nim\": \"I0320076\", \"kontak\": \"0877XXXXXXXX\"},\n",
    "    {\"nama\":\"Aji Manarul Aziz\", \"nim\": \"I0320119\", \"kontak\": \"0812XXXXXXXX\"},\n",
    "    {\"nama\":\"Alica Ayu Fitriani\", \"nim\": \"I0320121\", \"kontak\": \"0896XXXXXXXX\"},\n",
    "    {\"nama\":\"Dendy Halim Kusuma\", \"nim\": \"I0320125\", \"kontak\": \"0822XXXXXXXX\"}\n",
    "]\n",
    "\n",
    "\n",
    "for i in range(1,6):\n",
    "    print(list_aslab[i][\"nama\"]) "
   ]
  },
  {
   "cell_type": "code",
   "execution_count": 1,
   "metadata": {},
   "outputs": [
    {
     "name": "stdout",
     "output_type": "stream",
     "text": [
      "{'nama': 'Berlian Safri Prakoso', 'nim': 'I0320017', 'kontak': '0858XXXXXXXX', 'surel': 'berlian@student.uns.ac.id'}\n",
      "{'nama': 'Halidya Siti Hanifah', 'nim': 'I0320044', 'kontak': '0878XXXXXXXX', 'surel': 'halidya@student.uns.ac.id'}\n",
      "{'nama': 'Nurki Putra Mahardika', 'nim': 'I0320076', 'kontak': '0877XXXXXXXX', 'surel': 'nurki@student.uns.ac.id'}\n",
      "{'nama': 'Aji Manarul Aziz', 'nim': 'I0320119', 'kontak': '0812XXXXXXXX', 'surel': 'manarul@student.uns.ac.id'}\n",
      "{'nama': 'Alica Ayu Fitriani', 'nim': 'I0320121', 'kontak': '0896XXXXXXXX', 'surel': 'alica@student.uns.ac.id'}\n",
      "{'nama': 'Dendy Halim Kusuma', 'nim': 'I0320125', 'kontak': '0822XXXXXXXX', 'surel': 'dendy@student.uns.ac.id'}\n"
     ]
    }
   ],
   "source": [
    "#B\n",
    "list_aslab = [\n",
    "    {\"nama\":\"Berlian Safri Prakoso\", \"nim\": \"I0320017\", \"kontak\": \"0858XXXXXXXX\"},\n",
    "    {\"nama\":\"Halidya Siti Hanifah\", \"nim\": \"I0320044\", \"kontak\": \"0878XXXXXXXX\"},\n",
    "    {\"nama\":\"Nurki Putra Mahardika\", \"nim\": \"I0320076\", \"kontak\": \"0877XXXXXXXX\"},\n",
    "    {\"nama\":\"Aji Manarul Aziz\", \"nim\": \"I0320119\", \"kontak\": \"0812XXXXXXXX\"},\n",
    "    {\"nama\":\"Alica Ayu Fitriani\", \"nim\": \"I0320121\", \"kontak\": \"0896XXXXXXXX\"},\n",
    "    {\"nama\":\"Dendy Halim Kusuma\", \"nim\": \"I0320125\", \"kontak\": \"0822XXXXXXXX\"}\n",
    "]\n",
    "\n",
    "surel = [\"berlian@student.uns.ac.id\",\n",
    "         \"halidya@student.uns.ac.id\",\n",
    "         \"nurki@student.uns.ac.id\",\n",
    "         \"manarul@student.uns.ac.id\",\n",
    "         \"alica@student.uns.ac.id\",\n",
    "         \"dendy@student.uns.ac.id\"] \n",
    "\n",
    "for i in range(len(list_aslab)):\n",
    "    list_aslab[i][\"surel\"] = surel[i]\n",
    "\n",
    "for aslab in list_aslab:\n",
    "    print(aslab)\n"
   ]
  },
  {
   "cell_type": "code",
   "execution_count": 2,
   "metadata": {},
   "outputs": [
    {
     "name": "stdout",
     "output_type": "stream",
     "text": [
      "{'nama': 'Berlian Safri Prakoso', 'nim': 'I0320017'}\n",
      "{'nama': 'Halidya Siti Hanifah', 'nim': 'I0320044'}\n",
      "{'nama': 'Nurki Putra Mahardika', 'nim': 'I0320076'}\n",
      "{'nama': 'Aji Manarul Aziz', 'nim': 'I0320119'}\n",
      "{'nama': 'Alica Ayu Fitriani', 'nim': 'I0320121'}\n",
      "{'nama': 'Dendy Halim Kusuma', 'nim': 'I0320125'}\n"
     ]
    }
   ],
   "source": [
    "#C\n",
    "list_aslab = [\n",
    "    {\"nama\":\"Berlian Safri Prakoso\", \"nim\": \"I0320017\", \"kontak\": \"0858XXXXXXXX\"},\n",
    "    {\"nama\":\"Halidya Siti Hanifah\", \"nim\": \"I0320044\", \"kontak\": \"0878XXXXXXXX\"},\n",
    "    {\"nama\":\"Nurki Putra Mahardika\", \"nim\": \"I0320076\", \"kontak\": \"0877XXXXXXXX\"},\n",
    "    {\"nama\":\"Aji Manarul Aziz\", \"nim\": \"I0320119\", \"kontak\": \"0812XXXXXXXX\"},\n",
    "    {\"nama\":\"Alica Ayu Fitriani\", \"nim\": \"I0320121\", \"kontak\": \"0896XXXXXXXX\"},\n",
    "    {\"nama\":\"Dendy Halim Kusuma\", \"nim\": \"I0320125\", \"kontak\": \"0822XXXXXXXX\"}\n",
    "]\n",
    "\n",
    "for aslab in list_aslab:\n",
    "    del aslab[\"kontak\"]\n",
    "    print(aslab)"
   ]
  }
 ],
 "metadata": {
  "kernelspec": {
   "display_name": "Python 3",
   "language": "python",
   "name": "python3"
  },
  "language_info": {
   "codemirror_mode": {
    "name": "ipython",
    "version": 3
   },
   "file_extension": ".py",
   "mimetype": "text/x-python",
   "name": "python",
   "nbconvert_exporter": "python",
   "pygments_lexer": "ipython3",
   "version": "3.11.1"
  },
  "orig_nbformat": 4,
  "vscode": {
   "interpreter": {
    "hash": "5addf786bcd861d1ce5006f23111f8cbb206731e5b61b0a5632ba9e0252558a8"
   }
  }
 },
 "nbformat": 4,
 "nbformat_minor": 2
}
