{
 "cells": [
  {
   "cell_type": "code",
   "execution_count": 6,
   "metadata": {},
   "outputs": [
    {
     "name": "stdout",
     "output_type": "stream",
     "text": [
      "[[1, 2, 3], [4, 5, 6]]\n"
     ]
    }
   ],
   "source": [
    "#Buatlah sebuah fungsi untuk membuat matrix berdasarkan input dari user\n",
    "import numpy as np\n",
    "\n",
    "def create_matrix(baris, kolom):\n",
    "    global matrix\n",
    "    matrix = [[0 for j in range(kolom)]for i in range(baris)]\n",
    "    for a in range(baris):\n",
    "        for b in range(kolom):\n",
    "            matrix[a][b] = int(input(f\"Masukkan elemen untuk [{a+1}][{b+1}] : \"))\n",
    "    return matrix\n",
    "\n",
    "print(create_matrix(baris=int(input('Masukkan Jumlah Baris:\\t')),\n",
    "      kolom=int(input('Masukkan Jumlah Kolom:\\t'))))\n"
   ]
  },
  {
   "cell_type": "code",
   "execution_count": 5,
   "metadata": {},
   "outputs": [
    {
     "name": "stdout",
     "output_type": "stream",
     "text": [
      "[[1, 2], [1, 2]]\n"
     ]
    },
    {
     "data": {
      "text/plain": [
       "0"
      ]
     },
     "execution_count": 5,
     "metadata": {},
     "output_type": "execute_result"
    }
   ],
   "source": [
    "#Buatlah sebuah fungsi untuk mencari determinan matrix berdasarkan input matrix dari user\n",
    "\n",
    "    #Tulis kode kamu disini\n",
    "baris = int(input(\"Masukkan jumlah baris: \\t\"))\n",
    "kolom = int(input(\"Masukkan jumlah kolom: \\t\"))\n",
    "create_matrix(baris, kolom)\n",
    "\n",
    "def determinant(matrix):\n",
    "    a = len(matrix)\n",
    "    if a == 1:\n",
    "        return matrix[0][0]\n",
    "    else:\n",
    "        det = 0\n",
    "        for j in range(a):\n",
    "            temp = [row[:j]+row[j+1:] for row in matrix[1:]]\n",
    "            det += (-1)**j * matrix[0][j] * determinant(temp)\n",
    "    return det\n",
    "print(matrix)\n",
    "determinant(matrix)"
   ]
  },
  {
   "cell_type": "code",
   "execution_count": 2,
   "metadata": {},
   "outputs": [
    {
     "name": "stdout",
     "output_type": "stream",
     "text": [
      "matrix 1 = [[1, 2], [3, 4], [5, 6]]\n",
      "matrix 2 = [[3, 4]]\n",
      "[3, 4]\n",
      "[9, 12]\n",
      "[15, 20]\n"
     ]
    }
   ],
   "source": [
    "#Buatlah fungsi untuk mengakalikan dua buah matrix berdasarkan input user menggunakan nested loop\n",
    "\n",
    "def create_matrix1(baris1, kolom1):\n",
    "    global matrix1\n",
    "    matrix1 = [[0 for j in range(kolom1)]for i in range(baris1)]\n",
    "    for i in range(baris1):\n",
    "        for j in range(kolom1):\n",
    "            matrix1[i][j] = int(input(f\"Masukkan elemen untuk [{i+1}][{j+1}] : \"))\n",
    "    return matrix1\n",
    " \n",
    "baris1 = int(input('Masukkan Jumlah Baris M1:\\t'))\n",
    "kolom1 = int(input('Masukkan Jumlah Kolom M1:\\t'))\n",
    "create_matrix1(baris1, kolom1)\n",
    "\n",
    "def create_matrix2(baris2, kolom2):\n",
    "    global matrix2\n",
    "    matrix2 = [[0 for j in range(kolom2)]for i in range(baris2)]\n",
    "    for i in range(baris2):\n",
    "        for j in range(kolom2):\n",
    "            matrix2[i][j] = int(input(f\"Masukkan elemen untuk [{i+1}][{j+1}] : \"))\n",
    "    return matrix2\n",
    "\n",
    "\n",
    "baris2 = int(input('Masukkan Jumlah Baris M2:\\t'))\n",
    "kolom2 = int(input('Masukkan Jumlah Kolom M2:\\t'))\n",
    "create_matrix2(baris2, kolom2)\n",
    "\n",
    "def multiply_matrix(matrix1, matrix2):\n",
    "    m = len(matrix1)\n",
    "    n = len(matrix2[0])\n",
    "    p = len(matrix2)\n",
    "    \n",
    "    result = [[0 for j in range(n)] for i in range(m)]\n",
    "    for i in range(m):\n",
    "        for j in range(n):\n",
    "            for k in range(p):\n",
    "                result[i][j] += matrix1[i][k] * matrix2[k][j]\n",
    "    \n",
    "    for r in result:\n",
    "        print(r)\n",
    "\n",
    "print('matrix 1 =',matrix1)\n",
    "print('matrix 2 =',matrix2)\n",
    "multiply_matrix(matrix1, matrix2)"
   ]
  }
 ],
 "metadata": {
  "kernelspec": {
   "display_name": "Python 3",
   "language": "python",
   "name": "python3"
  },
  "language_info": {
   "codemirror_mode": {
    "name": "ipython",
    "version": 3
   },
   "file_extension": ".py",
   "mimetype": "text/x-python",
   "name": "python",
   "nbconvert_exporter": "python",
   "pygments_lexer": "ipython3",
   "version": "3.11.1"
  },
  "orig_nbformat": 4
 },
 "nbformat": 4,
 "nbformat_minor": 2
}
