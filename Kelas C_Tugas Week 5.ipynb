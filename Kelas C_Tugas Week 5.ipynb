{
 "cells": [
  {
   "attachments": {},
   "cell_type": "markdown",
   "metadata": {},
   "source": [
    "1. Buatlah program untuk menghitung pangkat 2 dari angka 1 hingga 50!"
   ]
  },
  {
   "cell_type": "code",
   "execution_count": 5,
   "metadata": {},
   "outputs": [
    {
     "name": "stdout",
     "output_type": "stream",
     "text": [
      "1 Pangkat 2 adalah 1\n",
      "2 Pangkat 2 adalah 4\n",
      "3 Pangkat 2 adalah 9\n",
      "4 Pangkat 2 adalah 16\n",
      "5 Pangkat 2 adalah 25\n",
      "6 Pangkat 2 adalah 36\n",
      "7 Pangkat 2 adalah 49\n",
      "8 Pangkat 2 adalah 64\n",
      "9 Pangkat 2 adalah 81\n",
      "10 Pangkat 2 adalah 100\n",
      "11 Pangkat 2 adalah 121\n",
      "12 Pangkat 2 adalah 144\n",
      "13 Pangkat 2 adalah 169\n",
      "14 Pangkat 2 adalah 196\n",
      "15 Pangkat 2 adalah 225\n",
      "16 Pangkat 2 adalah 256\n",
      "17 Pangkat 2 adalah 289\n",
      "18 Pangkat 2 adalah 324\n",
      "19 Pangkat 2 adalah 361\n",
      "20 Pangkat 2 adalah 400\n",
      "21 Pangkat 2 adalah 441\n",
      "22 Pangkat 2 adalah 484\n",
      "23 Pangkat 2 adalah 529\n",
      "24 Pangkat 2 adalah 576\n",
      "25 Pangkat 2 adalah 625\n",
      "26 Pangkat 2 adalah 676\n",
      "27 Pangkat 2 adalah 729\n",
      "28 Pangkat 2 adalah 784\n",
      "29 Pangkat 2 adalah 841\n",
      "30 Pangkat 2 adalah 900\n",
      "31 Pangkat 2 adalah 961\n",
      "32 Pangkat 2 adalah 1024\n",
      "33 Pangkat 2 adalah 1089\n",
      "34 Pangkat 2 adalah 1156\n",
      "35 Pangkat 2 adalah 1225\n",
      "36 Pangkat 2 adalah 1296\n",
      "37 Pangkat 2 adalah 1369\n",
      "38 Pangkat 2 adalah 1444\n",
      "39 Pangkat 2 adalah 1521\n",
      "40 Pangkat 2 adalah 1600\n",
      "41 Pangkat 2 adalah 1681\n",
      "42 Pangkat 2 adalah 1764\n",
      "43 Pangkat 2 adalah 1849\n",
      "44 Pangkat 2 adalah 1936\n",
      "45 Pangkat 2 adalah 2025\n",
      "46 Pangkat 2 adalah 2116\n",
      "47 Pangkat 2 adalah 2209\n",
      "48 Pangkat 2 adalah 2304\n",
      "49 Pangkat 2 adalah 2401\n",
      "50 Pangkat 2 adalah 2500\n"
     ]
    }
   ],
   "source": [
    "# Kerjakan nomor 1 di sini\n",
    "for i in range (1,51):\n",
    "    x = i ** 2\n",
    "    print(f\"{i} Pangkat 2 adalah {x}\")"
   ]
  },
  {
   "attachments": {},
   "cell_type": "markdown",
   "metadata": {},
   "source": [
    "2. Buatlah sebuah list yang berisi daftar nama mahasiswa angkatan kalian minimal sejumlah 10 nama. Kemudian buat program pencarian menggunakan pengulangan, di mana apabila nama yang user inputkan sudah sesuai dengan isi list maka program akan berhenti dan menampilkan output \"Pencarian anda sudah berakhir\""
   ]
  },
  {
   "attachments": {},
   "cell_type": "markdown",
   "metadata": {},
   "source": [
    "catatan: perhatikan user dapat menginputkan menggunakan baik huruf kapital maupun tidak"
   ]
  },
  {
   "cell_type": "code",
   "execution_count": 2,
   "metadata": {},
   "outputs": [
    {
     "name": "stdout",
     "output_type": "stream",
     "text": [
      "raisa\n",
      "julie\n",
      "eli\n",
      "novita\n",
      "zalfa\n",
      "fiya\n",
      "mira\n",
      "zarla \n",
      "pencarian anda sudah berakhir\n"
     ]
    }
   ],
   "source": [
    "#kerjakan no 2 disini \n",
    "nama = [\"raisa\", \"julie\", \"eli\", \"novita\", \"zalfa\", \"fiya\", \"mira\", \"zarla\", \"mutiara\", \"mahardika\"]\n",
    "asd = input(\"masukkan nama\")\n",
    "asd = asd.lower()\n",
    "for x in nama:\n",
    "    if asd == x:\n",
    "        print(f'{x} \\npencarian anda sudah berakhir')\n",
    "        break\n",
    "    print(x)"
   ]
  },
  {
   "attachments": {},
   "cell_type": "markdown",
   "metadata": {},
   "source": [
    "3. Disajikan list sebagai berikut "
   ]
  },
  {
   "cell_type": "code",
   "execution_count": 3,
   "metadata": {},
   "outputs": [],
   "source": [
    "bulan = ['januari', 'februari', 'maret', 'april','mei','juni','juli','agustus','september','oktober','november','desember']\n",
    "kota = ['jakarta' , 'kuala lumpur', 'bangkok', 'seoul', 'canada','london','dubai','barcelona']"
   ]
  },
  {
   "attachments": {},
   "cell_type": "markdown",
   "metadata": {},
   "source": [
    "Robert adalah seorang penyanyi terkenal. Dia merencanakan konser world tour di tahun 2024 mendatang di berbagai negara. Dengan catatan pada bulan April dan Mei, Robert kembali ke indonesia untuk istirahat sejenak kemudian melanjutkan lagi konser. Berdasarkan kasus tersebut buatlah program pengulangannya!"
   ]
  },
  {
   "cell_type": "code",
   "execution_count": 4,
   "metadata": {},
   "outputs": [
    {
     "name": "stdout",
     "output_type": "stream",
     "text": [
      "Robert akan konser di bulan januari di kota jakarta\n",
      "Robert akan konser di bulan februari di kota kuala lumpur\n",
      "Robert akan konser di bulan maret di kota bangkok\n",
      "di bulan april robert mau istirahat\n",
      "di bulan mei robert mau istirahat\n",
      "Robert akan konser di bulan juni di kota seoul\n",
      "Robert akan konser di bulan juli di kota canada\n",
      "Robert akan konser di bulan agustus di kota london\n",
      "Robert akan konser di bulan september di kota dubai\n",
      "Robert akan konser di bulan oktober di kota barcelona\n",
      "Robert akan konser di bulan november di kota london\n",
      "Robert akan konser di bulan desember di kota dubai\n"
     ]
    }
   ],
   "source": [
    "# kerjakan nomor 3 di sini\n",
    "import random\n",
    "bulan = ['januari', 'februari', 'maret', 'april','mei','juni','juli','agustus','september','oktober','november','desember']\n",
    "kota = ['jakarta' , 'kuala lumpur', 'bangkok', 'seoul', 'canada','london','dubai','barcelona']\n",
    "\n",
    "a = 0\n",
    "for i in bulan:\n",
    "    if i in [\"april\", \"mei\"]:\n",
    "        print(f'di bulan {i} robert mau istirahat')\n",
    "        continue\n",
    "    print(f'Robert akan konser di bulan {i} di kota', kota[a])\n",
    "    a+=1\n",
    "    if a == 8:\n",
    "        a = random.randrange(0,8)"
   ]
  }
 ],
 "metadata": {
  "kernelspec": {
   "display_name": "Python 3",
   "language": "python",
   "name": "python3"
  },
  "language_info": {
   "codemirror_mode": {
    "name": "ipython",
    "version": 3
   },
   "file_extension": ".py",
   "mimetype": "text/x-python",
   "name": "python",
   "nbconvert_exporter": "python",
   "pygments_lexer": "ipython3",
   "version": "3.11.1"
  },
  "orig_nbformat": 4
 },
 "nbformat": 4,
 "nbformat_minor": 2
}
